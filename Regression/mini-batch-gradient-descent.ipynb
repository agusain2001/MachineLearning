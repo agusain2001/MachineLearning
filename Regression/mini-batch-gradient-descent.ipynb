{
 "cells": [
  {
   "cell_type": "code",
   "execution_count": 1,
   "id": "11b53c8a",
   "metadata": {},
   "outputs": [],
   "source": [
    "from sklearn.datasets import load_diabetes\n",
    "import numpy as np\n",
    "from sklearn.linear_model import LinearRegression\n",
    "from sklearn.metrics import r2_score\n",
    "from sklearn.model_selection import train_test_split\n",
    "import random"
   ]
  },
  {
   "cell_type": "code",
   "execution_count": 2,
   "id": "72512015",
   "metadata": {},
   "outputs": [],
   "source": [
    "X,y = load_diabetes(return_X_y=True)"
   ]
  },
  {
   "cell_type": "code",
   "execution_count": 3,
   "id": "a895bda6",
   "metadata": {},
   "outputs": [],
   "source": [
    "X_train,X_test,y_train,y_test = train_test_split(X,y,random_state=2,test_size=0.2)"
   ]
  },
  {
   "cell_type": "code",
   "execution_count": 9,
   "id": "1629e9d1",
   "metadata": {},
   "outputs": [],
   "source": [
    "class MBGDRegression:\n",
    "    def __init__(self,batch_size,learning_rate=0.01,epochs=50):\n",
    "        self.coef_ = None\n",
    "        self.intercept_ = None\n",
    "        self.learning_rate = learning_rate\n",
    "        self.epochs = epochs\n",
    "        self.batch_size = batch_size\n",
    "    \n",
    "    def fit(self,X_train,y_train):\n",
    "        self.coef_ = np.ones(X_train.shape[1])\n",
    "        self.intercept_ = 0\n",
    "        for i in range(self.epochs):\n",
    "            for j in range(int(X_train.shape[0]/self.batch_size)):\n",
    "                idx = random.sample(range(X_train.shape[0]),self.batch_size)\n",
    "                y_hat = np.dot(X_train[idx],self.coef_) + self.intercept_\n",
    "                intercept_der = -2* np.mean(y_train[idx]-y_hat)\n",
    "                self.intercept_ = self.intercept_ - (self.learning_rate * intercept_der)\n",
    "            \n",
    "                coef_der = -2 * np.dot((y_train[idx]-y_hat),X_train[idx])\n",
    "                self.coef_ = self.coef_ - (self.learning_rate * coef_der)\n",
    "        print(self.intercept_,self.coef_)\n",
    "    \n",
    "    def predict(self,X_test):\n",
    "        return np.dot(X_test,self.coef_) + self.intercept_"
   ]
  },
  {
   "cell_type": "code",
   "execution_count": 10,
   "id": "b901cb4a",
   "metadata": {},
   "outputs": [],
   "source": [
    "mgb= MBGDRegression(batch_size=int(X_train.shape[0]/10))"
   ]
  },
  {
   "cell_type": "code",
   "execution_count": 11,
   "id": "4a6f5bb0",
   "metadata": {},
   "outputs": [
    {
     "name": "stdout",
     "output_type": "stream",
     "text": [
      "152.27002997217312 [  56.60528237  -72.20585815  341.22603367  244.4061276    16.73215259\n",
      "  -29.82804699 -172.13127295  125.29335234  319.56131548  125.20202285]\n"
     ]
    }
   ],
   "source": [
    "mgb.fit(X_train,y_train)"
   ]
  },
  {
   "cell_type": "code",
   "execution_count": 12,
   "id": "e270461d",
   "metadata": {},
   "outputs": [],
   "source": [
    "y_pred = mgb.predict(X_test)"
   ]
  },
  {
   "cell_type": "code",
   "execution_count": 13,
   "id": "40a9d115",
   "metadata": {},
   "outputs": [
    {
     "data": {
      "text/plain": [
       "0.4333507354736241"
      ]
     },
     "execution_count": 13,
     "metadata": {},
     "output_type": "execute_result"
    }
   ],
   "source": [
    "r2_score(y_test,y_pred)"
   ]
  },
  {
   "cell_type": "code",
   "execution_count": null,
   "id": "53f9bb08",
   "metadata": {},
   "outputs": [],
   "source": []
  }
 ],
 "metadata": {
  "kernelspec": {
   "display_name": "Python 3 (ipykernel)",
   "language": "python",
   "name": "python3"
  },
  "language_info": {
   "codemirror_mode": {
    "name": "ipython",
    "version": 3
   },
   "file_extension": ".py",
   "mimetype": "text/x-python",
   "name": "python",
   "nbconvert_exporter": "python",
   "pygments_lexer": "ipython3",
   "version": "3.9.12"
  }
 },
 "nbformat": 4,
 "nbformat_minor": 5
}
