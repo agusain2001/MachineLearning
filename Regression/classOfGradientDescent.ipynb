{
 "cells": [
  {
   "cell_type": "code",
   "execution_count": 1,
   "id": "c0c04fbf",
   "metadata": {},
   "outputs": [],
   "source": [
    "from sklearn.datasets import make_regression\n",
    "import matplotlib.pyplot as plt\n",
    "import numpy as np\n",
    "from sklearn.model_selection import cross_val_score"
   ]
  },
  {
   "cell_type": "code",
   "execution_count": 2,
   "id": "33c93e0f",
   "metadata": {},
   "outputs": [],
   "source": [
    "X,y = make_regression(n_samples=100,n_features=1,n_informative=1,n_targets=1,noise=20)"
   ]
  },
  {
   "cell_type": "code",
   "execution_count": 3,
   "id": "5e7440b6",
   "metadata": {},
   "outputs": [
    {
     "data": {
      "text/plain": [
       "<matplotlib.collections.PathCollection at 0x238ebc19940>"
      ]
     },
     "execution_count": 3,
     "metadata": {},
     "output_type": "execute_result"
    },
    {
     "data": {
      "image/png": "[encoded data removed]",
      "text/plain": [
       "<Figure size 432x288 with 1 Axes>"
      ]
     },
     "metadata": {
      "needs_background": "light"
     },
     "output_type": "display_data"
    }
   ],
   "source": [
    "plt.scatter(X,y)\n"
   ]
  },
  {
   "cell_type": "code",
   "execution_count": 4,
   "id": "9fa8cde1",
   "metadata": {},
   "outputs": [],
   "source": [
    "from sklearn.linear_model import LinearRegression"
   ]
  },
  {
   "cell_type": "code",
   "execution_count": 5,
   "id": "f0600b8d",
   "metadata": {},
   "outputs": [],
   "source": [
    "lr = LinearRegression()"
   ]
  },
  {
   "cell_type": "code",
   "execution_count": 6,
   "id": "857c7365",
   "metadata": {},
   "outputs": [
    {
     "name": "stdout",
     "output_type": "stream",
     "text": [
      "[22.6952137]\n",
      "1.911100680939331\n"
     ]
    }
   ],
   "source": [
    "lr.fit(X,y)\n",
    "print(lr.coef_)\n",
    "print(lr.intercept_)"
   ]
  },
  {
   "cell_type": "code",
   "execution_count": 7,
   "id": "278fe16b",
   "metadata": {},
   "outputs": [
    {
     "data": {
      "text/plain": [
       "0.2621620779282686"
      ]
     },
     "execution_count": 7,
     "metadata": {},
     "output_type": "execute_result"
    }
   ],
   "source": [
    "np.mean(cross_val_score(lr,X,y,scoring='r2',cv=10))"
   ]
  },
  {
   "cell_type": "code",
   "execution_count": 8,
   "id": "c2140f37",
   "metadata": {},
   "outputs": [],
   "source": [
    "class GDRegressor:\n",
    "    def __init__(self,learning_rate,epochs):\n",
    "        self.m = 100\n",
    "        self.b = -120\n",
    "        self.lr = learning_rate\n",
    "        self.epochs = epochs\n",
    "    \n",
    "    def fit(self,X,y):\n",
    "        for i in range(self.epochs):\n",
    "            loss_slope_b= -2 * np.sum(y-self.m*X.ravel()-self.b)\n",
    "            loss_slope_m= -2 * np.sum((y-self.m*X.ravel()-self.b)*X.ravel())\n",
    "            self.b = self.b - (self.lr * loss_slope_b)\n",
    "            self.m = self.m - (self.lr * loss_slope_m)\n",
    "        print(self.b,self.m)\n",
    "        \n",
    "        \n",
    "    def predict(self,X):\n",
    "        return self.m*X + self.b"
   ]
  },
  {
   "cell_type": "code",
   "execution_count": 9,
   "id": "d9620e27",
   "metadata": {},
   "outputs": [
    {
     "name": "stdout",
     "output_type": "stream",
     "text": [
      "1.91110066266644 22.695213684860537\n"
     ]
    }
   ],
   "source": [
    "gd = GDRegressor(0.001,100)\n",
    "gd.fit(X,y)"
   ]
  },
  {
   "cell_type": "code",
   "execution_count": 11,
   "id": "fd571ada",
   "metadata": {},
   "outputs": [
    {
     "data": {
      "text/plain": [
       "array([[ 25.22327914],\n",
       "       [  9.26219222],\n",
       "       [-30.05275091],\n",
       "       [  5.43725608],\n",
       "       [-15.43943525],\n",
       "       [ 31.62674261],\n",
       "       [  3.44868864],\n",
       "       [-45.65276468],\n",
       "       [ 18.87760402],\n",
       "       [-42.09142237],\n",
       "       [-17.53991002],\n",
       "       [ -4.89849266],\n",
       "       [  6.80101673],\n",
       "       [-37.46922247],\n",
       "       [-15.01613777],\n",
       "       [ 32.22798629],\n",
       "       [ -2.57000466],\n",
       "       [-12.85167165],\n",
       "       [-20.39180213],\n",
       "       [-22.77565925],\n",
       "       [  8.27006481],\n",
       "       [ 11.99425775],\n",
       "       [ 37.23185233],\n",
       "       [  6.85126028],\n",
       "       [ -6.12302892],\n",
       "       [-42.8865274 ],\n",
       "       [ 15.57854154],\n",
       "       [-45.28916598],\n",
       "       [ -1.4218294 ],\n",
       "       [-29.59914652],\n",
       "       [  3.19301043],\n",
       "       [  9.4605658 ],\n",
       "       [ -7.43262873],\n",
       "       [ 20.43718131],\n",
       "       [-43.96780867],\n",
       "       [-12.21949681],\n",
       "       [-20.16592514],\n",
       "       [ 11.6910683 ],\n",
       "       [ -7.13942385],\n",
       "       [ -4.73300602],\n",
       "       [ 36.12091993],\n",
       "       [ 15.99231444],\n",
       "       [ 27.7322409 ],\n",
       "       [ 15.20629781],\n",
       "       [-14.15915494],\n",
       "       [ -6.94904112],\n",
       "       [-14.82594785],\n",
       "       [ 21.97547532],\n",
       "       [  8.48001536],\n",
       "       [ 50.404457  ],\n",
       "       [ 21.13449836],\n",
       "       [ -7.04720863],\n",
       "       [  5.66987522],\n",
       "       [  5.60842014],\n",
       "       [ 19.74391525],\n",
       "       [ -2.74767478],\n",
       "       [  5.70057546],\n",
       "       [ 17.22429317],\n",
       "       [ -1.36980418],\n",
       "       [ 13.54540954],\n",
       "       [ -6.06318946],\n",
       "       [-15.07502024],\n",
       "       [ 45.25027389],\n",
       "       [ 14.58023217],\n",
       "       [ 23.0821857 ],\n",
       "       [ 12.08411736],\n",
       "       [ -4.51470593],\n",
       "       [ 35.79715288],\n",
       "       [  1.11867272],\n",
       "       [ 16.88549273],\n",
       "       [ 21.96808291],\n",
       "       [-24.34847355],\n",
       "       [ 33.43190754],\n",
       "       [-18.90480572],\n",
       "       [-30.48471974],\n",
       "       [ 10.10160224],\n",
       "       [  0.1239961 ],\n",
       "       [  1.82536128],\n",
       "       [-42.34474783],\n",
       "       [ 57.85679035],\n",
       "       [ -8.94785197],\n",
       "       [ -0.55858234],\n",
       "       [ 18.0359384 ],\n",
       "       [ 24.3422257 ],\n",
       "       [ -5.9609823 ],\n",
       "       [  1.60051112],\n",
       "       [ -4.08251754],\n",
       "       [-27.81666112],\n",
       "       [ 12.13770136],\n",
       "       [  4.00991189],\n",
       "       [ 21.64150095],\n",
       "       [ -7.17964245],\n",
       "       [  4.69365795],\n",
       "       [-38.87018972],\n",
       "       [-27.66675798],\n",
       "       [ -0.96847704],\n",
       "       [-14.77799653],\n",
       "       [-36.21579575],\n",
       "       [ -4.71316376],\n",
       "       [ -1.76093427]])"
      ]
     },
     "execution_count": 11,
     "metadata": {},
     "output_type": "execute_result"
    }
   ],
   "source": [
    "gd.predict(X)"
   ]
  },
  {
   "cell_type": "code",
   "execution_count": null,
   "id": "8d920706",
   "metadata": {},
   "outputs": [],
   "source": []
  }
 ],
 "metadata": {
  "kernelspec": {
   "display_name": "Python 3 (ipykernel)",
   "language": "python",
   "name": "python3"
  },
  "language_info": {
   "codemirror_mode": {
    "name": "ipython",
    "version": 3
   },
   "file_extension": ".py",
   "mimetype": "text/x-python",
   "name": "python",
   "nbconvert_exporter": "python",
   "pygments_lexer": "ipython3",
   "version": "3.9.12"
  }
 },
 "nbformat": 4,
 "nbformat_minor": 5
}
