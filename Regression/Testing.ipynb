{
 "cells": [
  {
   "cell_type": "code",
   "execution_count": 4,
   "id": "d12a7c7d",
   "metadata": {},
   "outputs": [
    {
     "name": "stdout",
     "output_type": "stream",
     "text": [
      "Without random_state: [10  8  9  7  4  2  1  6] [5 3]\n",
      "Without random_state: [10  3  8  7  5  1  9  4] [6 2]\n",
      "Without random_state: [ 9  8  4  1 10  7  5  2] [6 3]\n",
      "Without random_state: [ 3  2  9 10  6  4  1  8] [7 5]\n",
      "Without random_state: [10  5  6  4  7  8  1  3] [9 2]\n",
      "With random_state=2: [ 6  1  8  3  4  7 10  9] [5 2]\n",
      "With random_state=2: [ 6  1  8  3  4  7 10  9] [5 2]\n",
      "With random_state=2: [ 6  1  8  3  4  7 10  9] [5 2]\n",
      "With random_state=2: [ 6  1  8  3  4  7 10  9] [5 2]\n"
     ]
    }
   ],
   "source": [
    "import numpy as np\n",
    "from sklearn.model_selection import train_test_split\n",
    "\n",
    "# Let's say we have a list of numbers from 1 to 10.\n",
    "data = np.arange(1, 11)\n",
    "\n",
    "# Without setting random_state, it's like shuffling the cards differently each time.\n",
    "# Run this code multiple times to see different results.\n",
    "X_train, X_test = train_test_split(data, test_size=0.2)\n",
    "print(\"Without random_state:\", X_train, X_test)\n",
    "\n",
    "X_train, X_test = train_test_split(data, test_size=0.2)\n",
    "print(\"Without random_state:\", X_train, X_test)\n",
    "\n",
    "X_train, X_test = train_test_split(data, test_size=0.2)\n",
    "print(\"Without random_state:\", X_train, X_test)\n",
    "\n",
    "X_train, X_test = train_test_split(data, test_size=0.2)\n",
    "print(\"Without random_state:\", X_train, X_test)\n",
    "\n",
    "X_train, X_test = train_test_split(data, test_size=0.2)\n",
    "print(\"Without random_state:\", X_train, X_test)\n",
    "# Now, let's set random_state to 2 for reproducibility.\n",
    "\n",
    "X_train, X_test = train_test_split(data, test_size=0.2, random_state=2)\n",
    "print(\"With random_state=2:\", X_train, X_test)\n",
    "\n",
    "X_train, X_test = train_test_split(data, test_size=0.2, random_state=2)\n",
    "print(\"With random_state=2:\", X_train, X_test)\n",
    "X_train, X_test = train_test_split(data, test_size=0.2, random_state=2)\n",
    "print(\"With random_state=2:\", X_train, X_test)\n",
    "X_train, X_test = train_test_split(data, test_size=0.2, random_state=2)\n",
    "print(\"With random_state=2:\", X_train, X_test)"
   ]
  },
  {
   "cell_type": "code",
   "execution_count": null,
   "id": "ef0d7879",
   "metadata": {},
   "outputs": [],
   "source": []
  }
 ],
 "metadata": {
  "kernelspec": {
   "display_name": "Python 3 (ipykernel)",
   "language": "python",
   "name": "python3"
  },
  "language_info": {
   "codemirror_mode": {
    "name": "ipython",
    "version": 3
   },
   "file_extension": ".py",
   "mimetype": "text/x-python",
   "name": "python",
   "nbconvert_exporter": "python",
   "pygments_lexer": "ipython3",
   "version": "3.9.12"
  }
 },
 "nbformat": 4,
 "nbformat_minor": 5
}
