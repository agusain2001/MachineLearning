{
 "cells": [
  {
   "cell_type": "code",
   "execution_count": 1,
   "id": "5067a68f",
   "metadata": {},
   "outputs": [],
   "source": [
    "from sklearn.datasets import make_classification\n",
    "from sklearn.metrics import accuracy_score\n",
    "from sklearn.ensemble import BaggingClassifier\n",
    "from sklearn.tree import DecisionTreeClassifier\n",
    "from sklearn.svm import SVC\n",
    "from sklearn.model_selection import train_test_split"
   ]
  },
  {
   "cell_type": "code",
   "execution_count": 2,
   "id": "2b6e163f",
   "metadata": {},
   "outputs": [
    {
     "data": {
      "text/plain": [
       "array([[ 2.44892676, -0.16849396, -0.64545605, ...,  0.25382121,\n",
       "         0.24892271, -0.87037505],\n",
       "       [ 0.83034299, -0.86913843,  0.93952283, ..., -0.3347103 ,\n",
       "        -0.41703599,  0.66731147],\n",
       "       [ 2.7628696 , -0.20196957,  2.71024603, ...,  0.25445568,\n",
       "        -0.54839629, -0.50473092],\n",
       "       ...,\n",
       "       [ 1.62501549,  1.7725594 ,  0.40193601, ..., -1.18166115,\n",
       "        -0.91302048,  0.20302783],\n",
       "       [-1.89829381, -1.30271303,  0.05346323, ..., -0.49184231,\n",
       "         0.49707641, -0.67504453],\n",
       "       [ 0.28767223, -0.12153015,  0.81942086, ...,  0.23796588,\n",
       "         1.53294566, -0.4239381 ]])"
      ]
     },
     "execution_count": 2,
     "metadata": {},
     "output_type": "execute_result"
    }
   ],
   "source": [
    "X,y = make_classification(n_samples=10000,n_features=10,n_informative=3)"
   ]
  },
  {
   "cell_type": "code",
   "execution_count": null,
   "id": "a9b475e1",
   "metadata": {},
   "outputs": [],
   "source": []
  }
 ],
 "metadata": {
  "kernelspec": {
   "display_name": "Python 3 (ipykernel)",
   "language": "python",
   "name": "python3"
  },
  "language_info": {
   "codemirror_mode": {
    "name": "ipython",
    "version": 3
   },
   "file_extension": ".py",
   "mimetype": "text/x-python",
   "name": "python",
   "nbconvert_exporter": "python",
   "pygments_lexer": "ipython3",
   "version": "3.9.12"
  }
 },
 "nbformat": 4,
 "nbformat_minor": 5
}
